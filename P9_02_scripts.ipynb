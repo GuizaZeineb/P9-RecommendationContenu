{
 "cells": [
  {
   "cell_type": "code",
   "execution_count": 1,
   "id": "1e69068b",
   "metadata": {},
   "outputs": [],
   "source": [
    "import warnings\n",
    "warnings.filterwarnings('ignore')\n",
    "import pandas as pd\n",
    "import os\n",
    "import pickle\n",
    "from scipy.spatial import distance\n",
    "import random\n",
    "import time\n",
    "\n",
    "import sys\n",
    "import numpy as np\n",
    "import scipy.sparse as sparse\n",
    "#conda install -c conda-forge implicit\n",
    "import implicit\n",
    "import joblib"
   ]
  },
  {
   "cell_type": "markdown",
   "id": "eb5a8b55",
   "metadata": {},
   "source": [
    "### Chargement et préparation de données"
   ]
  },
  {
   "cell_type": "code",
   "execution_count": 2,
   "id": "2e7f9df9",
   "metadata": {},
   "outputs": [
    {
     "data": {
      "text/html": [
       "<div>\n",
       "<style scoped>\n",
       "    .dataframe tbody tr th:only-of-type {\n",
       "        vertical-align: middle;\n",
       "    }\n",
       "\n",
       "    .dataframe tbody tr th {\n",
       "        vertical-align: top;\n",
       "    }\n",
       "\n",
       "    .dataframe thead th {\n",
       "        text-align: right;\n",
       "    }\n",
       "</style>\n",
       "<table border=\"1\" class=\"dataframe\">\n",
       "  <thead>\n",
       "    <tr style=\"text-align: right;\">\n",
       "      <th></th>\n",
       "      <th>article_id</th>\n",
       "      <th>category_id</th>\n",
       "      <th>created_at_ts</th>\n",
       "      <th>publisher_id</th>\n",
       "      <th>words_count</th>\n",
       "    </tr>\n",
       "  </thead>\n",
       "  <tbody>\n",
       "    <tr>\n",
       "      <th>0</th>\n",
       "      <td>0</td>\n",
       "      <td>0</td>\n",
       "      <td>1513144419000</td>\n",
       "      <td>0</td>\n",
       "      <td>168</td>\n",
       "    </tr>\n",
       "    <tr>\n",
       "      <th>1</th>\n",
       "      <td>1</td>\n",
       "      <td>1</td>\n",
       "      <td>1405341936000</td>\n",
       "      <td>0</td>\n",
       "      <td>189</td>\n",
       "    </tr>\n",
       "    <tr>\n",
       "      <th>2</th>\n",
       "      <td>2</td>\n",
       "      <td>1</td>\n",
       "      <td>1408667706000</td>\n",
       "      <td>0</td>\n",
       "      <td>250</td>\n",
       "    </tr>\n",
       "  </tbody>\n",
       "</table>\n",
       "</div>"
      ],
      "text/plain": [
       "   article_id  category_id  created_at_ts  publisher_id  words_count\n",
       "0           0            0  1513144419000             0          168\n",
       "1           1            1  1405341936000             0          189\n",
       "2           2            1  1408667706000             0          250"
      ]
     },
     "execution_count": 2,
     "metadata": {},
     "output_type": "execute_result"
    }
   ],
   "source": [
    "df_metadata = pd.read_csv(\"data/articles_metadata.csv\")\n",
    "df_metadata.head(3)"
   ]
  },
  {
   "cell_type": "markdown",
   "id": "5de3bd1f",
   "metadata": {},
   "source": []
  },
  {
   "cell_type": "code",
   "execution_count": 3,
   "id": "7ea381a1",
   "metadata": {},
   "outputs": [],
   "source": [
    "#  Chargement des embeddings des articles\n",
    "with open(\"./data/articles_embeddings.pickle\", \"rb\") as input_file:\n",
    "    embeddings = pickle.load(input_file)"
   ]
  },
  {
   "cell_type": "markdown",
   "id": "7eac7e40",
   "metadata": {},
   "source": [
    "#### Rajouter une colonne dans le dataframe contenant l'embedding correspondant à l'article concerné"
   ]
  },
  {
   "cell_type": "code",
   "execution_count": 4,
   "id": "186ba178",
   "metadata": {},
   "outputs": [
    {
     "name": "stdout",
     "output_type": "stream",
     "text": [
      "<class 'pandas.core.frame.DataFrame'>\n",
      "RangeIndex: 364047 entries, 0 to 364046\n",
      "Data columns (total 6 columns):\n",
      " #   Column         Non-Null Count   Dtype \n",
      "---  ------         --------------   ----- \n",
      " 0   article_id     364047 non-null  int64 \n",
      " 1   category_id    364047 non-null  int64 \n",
      " 2   created_at_ts  364047 non-null  int64 \n",
      " 3   publisher_id   364047 non-null  int64 \n",
      " 4   words_count    364047 non-null  int64 \n",
      " 5   embeddings     364047 non-null  object\n",
      "dtypes: int64(5), object(1)\n",
      "memory usage: 16.7+ MB\n"
     ]
    }
   ],
   "source": [
    "df_metadata['embeddings'] = embeddings.tolist()# Reverse #np.array(df['a'].tolist())\n",
    "df_metadata['embeddings'].apply(lambda x: np.array(x))\n",
    "df_metadata.info()"
   ]
  },
  {
   "cell_type": "markdown",
   "id": "942d82f8",
   "metadata": {},
   "source": [
    "#### - Fusionner les fichiers de click dans un seul dataframe"
   ]
  },
  {
   "cell_type": "code",
   "execution_count": 5,
   "id": "4e5f7049",
   "metadata": {},
   "outputs": [],
   "source": [
    "data_folder =\"./data/clicks/\"\n",
    "files =[path for path in os.listdir(data_folder)]\n",
    "frames = [ pd.read_csv( os.path.join(data_folder,f) ) for f in files ]\n",
    "df_clicks = pd.concat(frames, ignore_index=True)"
   ]
  },
  {
   "cell_type": "markdown",
   "id": "8e2870fc",
   "metadata": {},
   "source": [
    "#### - Fusionner les datafarame click and metadata"
   ]
  },
  {
   "cell_type": "code",
   "execution_count": 6,
   "id": "a8fa0dab",
   "metadata": {},
   "outputs": [
    {
     "data": {
      "text/html": [
       "<div>\n",
       "<style scoped>\n",
       "    .dataframe tbody tr th:only-of-type {\n",
       "        vertical-align: middle;\n",
       "    }\n",
       "\n",
       "    .dataframe tbody tr th {\n",
       "        vertical-align: top;\n",
       "    }\n",
       "\n",
       "    .dataframe thead th {\n",
       "        text-align: right;\n",
       "    }\n",
       "</style>\n",
       "<table border=\"1\" class=\"dataframe\">\n",
       "  <thead>\n",
       "    <tr style=\"text-align: right;\">\n",
       "      <th></th>\n",
       "      <th>user_id</th>\n",
       "      <th>session_id</th>\n",
       "      <th>session_start</th>\n",
       "      <th>session_size</th>\n",
       "      <th>article_id</th>\n",
       "      <th>click_timestamp</th>\n",
       "      <th>click_environment</th>\n",
       "      <th>click_deviceGroup</th>\n",
       "      <th>click_os</th>\n",
       "      <th>click_country</th>\n",
       "      <th>click_region</th>\n",
       "      <th>click_referrer_type</th>\n",
       "      <th>category_id</th>\n",
       "      <th>created_at_ts</th>\n",
       "      <th>publisher_id</th>\n",
       "      <th>words_count</th>\n",
       "      <th>embeddings</th>\n",
       "    </tr>\n",
       "  </thead>\n",
       "  <tbody>\n",
       "    <tr>\n",
       "      <th>0</th>\n",
       "      <td>93863</td>\n",
       "      <td>1507865792177843</td>\n",
       "      <td>1507865792000</td>\n",
       "      <td>2</td>\n",
       "      <td>96210</td>\n",
       "      <td>1507865832925</td>\n",
       "      <td>4</td>\n",
       "      <td>3</td>\n",
       "      <td>2</td>\n",
       "      <td>1</td>\n",
       "      <td>21</td>\n",
       "      <td>2</td>\n",
       "      <td>209</td>\n",
       "      <td>1507798791000</td>\n",
       "      <td>0</td>\n",
       "      <td>274</td>\n",
       "      <td>[-0.6353366374969482, -0.973430335521698, -0.2...</td>\n",
       "    </tr>\n",
       "    <tr>\n",
       "      <th>1</th>\n",
       "      <td>93863</td>\n",
       "      <td>1507865792177843</td>\n",
       "      <td>1507865792000</td>\n",
       "      <td>2</td>\n",
       "      <td>158094</td>\n",
       "      <td>1507865862925</td>\n",
       "      <td>4</td>\n",
       "      <td>3</td>\n",
       "      <td>2</td>\n",
       "      <td>1</td>\n",
       "      <td>21</td>\n",
       "      <td>2</td>\n",
       "      <td>281</td>\n",
       "      <td>1507803751000</td>\n",
       "      <td>0</td>\n",
       "      <td>223</td>\n",
       "      <td>[-0.20855987071990967, -0.9667428731918335, -0...</td>\n",
       "    </tr>\n",
       "    <tr>\n",
       "      <th>2</th>\n",
       "      <td>294036</td>\n",
       "      <td>1507865795185844</td>\n",
       "      <td>1507865795000</td>\n",
       "      <td>2</td>\n",
       "      <td>20691</td>\n",
       "      <td>1507865819095</td>\n",
       "      <td>4</td>\n",
       "      <td>3</td>\n",
       "      <td>20</td>\n",
       "      <td>1</td>\n",
       "      <td>9</td>\n",
       "      <td>2</td>\n",
       "      <td>9</td>\n",
       "      <td>1507826236000</td>\n",
       "      <td>0</td>\n",
       "      <td>226</td>\n",
       "      <td>[-0.8065880537033081, -0.9700162410736084, -0....</td>\n",
       "    </tr>\n",
       "  </tbody>\n",
       "</table>\n",
       "</div>"
      ],
      "text/plain": [
       "  user_id        session_id  session_start session_size article_id  \\\n",
       "0   93863  1507865792177843  1507865792000            2      96210   \n",
       "1   93863  1507865792177843  1507865792000            2     158094   \n",
       "2  294036  1507865795185844  1507865795000            2      20691   \n",
       "\n",
       "  click_timestamp click_environment click_deviceGroup click_os click_country  \\\n",
       "0   1507865832925                 4                 3        2             1   \n",
       "1   1507865862925                 4                 3        2             1   \n",
       "2   1507865819095                 4                 3       20             1   \n",
       "\n",
       "  click_region click_referrer_type  category_id  created_at_ts  publisher_id  \\\n",
       "0           21                   2          209  1507798791000             0   \n",
       "1           21                   2          281  1507803751000             0   \n",
       "2            9                   2            9  1507826236000             0   \n",
       "\n",
       "   words_count                                         embeddings  \n",
       "0          274  [-0.6353366374969482, -0.973430335521698, -0.2...  \n",
       "1          223  [-0.20855987071990967, -0.9667428731918335, -0...  \n",
       "2          226  [-0.8065880537033081, -0.9700162410736084, -0....  "
      ]
     },
     "execution_count": 6,
     "metadata": {},
     "output_type": "execute_result"
    }
   ],
   "source": [
    "df_clicks.rename(columns={'click_article_id': 'article_id'}, inplace=True)\n",
    "df = pd.merge(df_clicks, df_metadata, how='left', on='article_id')\n",
    "df.head(3)"
   ]
  },
  {
   "cell_type": "code",
   "execution_count": 7,
   "id": "ff05bfda",
   "metadata": {},
   "outputs": [
    {
     "data": {
      "text/plain": [
       "user_id                0\n",
       "session_id             0\n",
       "session_start          0\n",
       "session_size           0\n",
       "article_id             0\n",
       "click_timestamp        0\n",
       "click_environment      0\n",
       "click_deviceGroup      0\n",
       "click_os               0\n",
       "click_country          0\n",
       "click_region           0\n",
       "click_referrer_type    0\n",
       "category_id            0\n",
       "created_at_ts          0\n",
       "publisher_id           0\n",
       "words_count            0\n",
       "embeddings             0\n",
       "dtype: int64"
      ]
     },
     "execution_count": 7,
     "metadata": {},
     "output_type": "execute_result"
    }
   ],
   "source": [
    "#Vérification d'éléments vides \n",
    "df.isnull().sum()\n",
    "#dans notre cas il n'y a aucun donc aucune nécessité d'enlever des éléments"
   ]
  },
  {
   "cell_type": "code",
   "execution_count": 8,
   "id": "4ba3319d",
   "metadata": {},
   "outputs": [
    {
     "name": "stdout",
     "output_type": "stream",
     "text": [
      "object\n",
      "object\n"
     ]
    }
   ],
   "source": [
    "#Vérification du type des colonnes utiles\n",
    "print(df.user_id.dtype)\n",
    "print(df.article_id.dtype)"
   ]
  },
  {
   "cell_type": "markdown",
   "id": "6eefad49",
   "metadata": {},
   "source": [
    "#### - Supprimer les utilisateurs qui ont lu moins de 3 articles  & supprimer les articles ayant été lu moins de 2 fois"
   ]
  },
  {
   "cell_type": "code",
   "execution_count": 9,
   "id": "bdb98e74",
   "metadata": {},
   "outputs": [],
   "source": [
    "#### - Supprimer les utilisateurs qui ont lu moins de 2 articles\n",
    "# Methode 1\n",
    "df_new = df.groupby(\"user_id\").filter(lambda x: len(x) > 2)\n",
    "####- supprimer les articles ayant été lus moins de 2 fois\n",
    "df_new = df_new.groupby(\"article_id\").filter(lambda x: len(x) >= 2)\n",
    "\n",
    "#### - Supprimer les utilisateurs qui ont lu moins de N articles\n",
    "# Methode 2\n",
    "#j = df['user_id'].where(df['user_id'].value_counts(dropna=True)>2)\n",
    "#new_df = df[ df['user_id'].isin(j.dropna().index) ]"
   ]
  },
  {
   "cell_type": "markdown",
   "id": "5817f5f9",
   "metadata": {},
   "source": [
    "#### -  Séparer la base de données en train et test   \n",
    "Diviser le dataframe en train (l'historique des recherches) et test (les articles que l'on devrait recommander si la méthode était parfaite). Pour cela il faut utiliser la date des sessions pour ordonner le dataframe puis le diviser selon la proportion test_size = 0,3."
   ]
  },
  {
   "cell_type": "code",
   "execution_count": 10,
   "id": "785c3855",
   "metadata": {},
   "outputs": [],
   "source": [
    "# Utilisation du Timestamp pour la date \n",
    "df_new.click_timestamp = df_new.click_timestamp.apply(lambda x : pd.Timestamp(x))\n",
    "# Utiliser directement la proportion de train et de test\n",
    "df_new= df_new.set_index(df_new['click_timestamp'])\n",
    "df_new = df_new.sort_index().reset_index(drop=True)\n",
    "divide_index = (df_new.shape[0] * 70)/100\n",
    "\n",
    "\n",
    "train = df_new[:int(divide_index)]\n",
    "test = df_new[int(divide_index):].reset_index(drop=True)"
   ]
  },
  {
   "cell_type": "code",
   "execution_count": 11,
   "id": "1383cad8",
   "metadata": {},
   "outputs": [
    {
     "name": "stdout",
     "output_type": "stream",
     "text": [
      "Vérification des valeurs numériques dans user_id \n",
      " True    2763725\n",
      "Name: user_id, dtype: int64\n",
      "Vérification des valeurs numériques dans article_id \n",
      " True    2763725\n",
      "Name: article_id, dtype: int64\n"
     ]
    }
   ],
   "source": [
    "# check if the colums contain no numeric data\n",
    "print(\"Vérification des valeurs numériques dans user_id \\n\" ,df_new[\"user_id\"].apply(np.isreal).value_counts())\n",
    "print(\"Vérification des valeurs numériques dans article_id \\n\",df_new[\"article_id\"].apply(np.isreal).value_counts())"
   ]
  },
  {
   "cell_type": "markdown",
   "id": "03a8bb79",
   "metadata": {},
   "source": [
    "Etant donné que les valeurs des colonnes user_id et article_id ne contiennt aucune valeur non numérique, il est simple de tranformer leur valeur numérique sans avoir besoin de convertir les colonnes cibles en type « catégorie », puis effectuer un label encoding dessus à l'aide de .cat.codes. "
   ]
  },
  {
   "cell_type": "code",
   "execution_count": 12,
   "id": "5d7af428",
   "metadata": {},
   "outputs": [],
   "source": [
    "train['user_id'] = train['user_id'].astype('int')\n",
    "train['article_id'] = train['article_id'].astype('int')\n",
    "test['user_id'] = test['user_id'].astype('int')\n",
    "test['article_id'] = test['article_id'].astype('int')\n",
    "#print (train.info())\n",
    "#print (test.info())"
   ]
  },
  {
   "cell_type": "markdown",
   "id": "e6d2ca2c",
   "metadata": {},
   "source": [
    "#### -Vérifier à nouveau si train et test sont cohérents   \n",
    "Il s'agit de s'assurer que les datasets sont ordonnés en ordre croissant"
   ]
  },
  {
   "cell_type": "code",
   "execution_count": 13,
   "id": "5ec27b8f",
   "metadata": {},
   "outputs": [
    {
     "data": {
      "text/plain": [
       "True"
      ]
     },
     "execution_count": 13,
     "metadata": {},
     "output_type": "execute_result"
    }
   ],
   "source": [
    "test.click_timestamp[0] < test.click_timestamp[test.index[-1]]"
   ]
  },
  {
   "cell_type": "code",
   "execution_count": 14,
   "id": "a685af91",
   "metadata": {},
   "outputs": [
    {
     "data": {
      "text/plain": [
       "True"
      ]
     },
     "execution_count": 14,
     "metadata": {},
     "output_type": "execute_result"
    }
   ],
   "source": [
    "train.click_timestamp[0] < train.click_timestamp[train.index[-1]]"
   ]
  },
  {
   "cell_type": "code",
   "execution_count": 15,
   "id": "5c18aff8",
   "metadata": {},
   "outputs": [
    {
     "name": "stdout",
     "output_type": "stream",
     "text": [
      "Train Dataset: (1934607, 17)\n",
      "Test Dataset: (829118, 17)\n",
      "Percentage train:  69.99998190847498\n",
      "Percentage test:  30.00001809152503\n"
     ]
    }
   ],
   "source": [
    "print('Train Dataset:',train.shape)\n",
    "print('Test Dataset:',test.shape)\n",
    "print(\"Percentage train: \",(train.shape[0]/(train.shape[0]+test.shape[0]))*100)\n",
    "print(\"Percentage test: \",(test.shape[0]/(train.shape[0]+test.shape[0]))*100)"
   ]
  },
  {
   "cell_type": "markdown",
   "id": "9590795e",
   "metadata": {},
   "source": [
    "#### - Supprimer les utilisateurs si aucune lecture dans la base de train (sans historique, pas de recommandation)"
   ]
  },
  {
   "cell_type": "code",
   "execution_count": 16,
   "id": "4c8cb71b",
   "metadata": {},
   "outputs": [
    {
     "data": {
      "text/plain": [
       "18607"
      ]
     },
     "execution_count": 16,
     "metadata": {},
     "output_type": "execute_result"
    }
   ],
   "source": [
    "#users_to_remove = [element for element in test.user_id.values if element not in train.user_id.values]\n",
    "users_to_remove = list( set(test.user_id.values).difference(set(train.user_id.values)) ) \n",
    "test =test[~test.user_id.isin(users_to_remove)]\n",
    "len(users_to_remove)"
   ]
  },
  {
   "cell_type": "markdown",
   "id": "5d669592",
   "metadata": {},
   "source": [
    "#### - Selection des mêmes n_users à utiser dans l'entrainement de chacun des deux modèles"
   ]
  },
  {
   "cell_type": "code",
   "execution_count": 17,
   "id": "8dac28ad",
   "metadata": {},
   "outputs": [],
   "source": [
    "#________Selection des mêmes n_users à utiser dans l'entrainement de chacun des deux modèles de recommandation\n",
    "n_users= 200\n",
    "sample_users = random.sample(set(train.user_id.values), n_users)\n",
    "verbose = False"
   ]
  },
  {
   "cell_type": "markdown",
   "id": "febbb301",
   "metadata": {},
   "source": [
    "#### - Métriques d'évaluation de performances"
   ]
  },
  {
   "cell_type": "code",
   "execution_count": 18,
   "id": "7675776f",
   "metadata": {},
   "outputs": [],
   "source": [
    "def metric_1(intersection_categories, categories_lues_test):\n",
    "    \"\"\"categories recommandées et lues par l'utilisateur dans test\"\"\"\n",
    "    return (len(intersection_categories) /\n",
    "                       len(set(categories_lues_test)))"
   ]
  },
  {
   "cell_type": "code",
   "execution_count": 19,
   "id": "5a023645",
   "metadata": {},
   "outputs": [],
   "source": [
    "def metric_2(recommended_categories, user_categories):\n",
    "    \"\"\"categories recommandées et lues par l'utilisateur dans train\"\"\"\n",
    "    correct = 0\n",
    "    \n",
    "    for categ in recommended_categories:\n",
    "        if categ in user_categories:\n",
    "            correct +=1\n",
    "    \n",
    "    return correct/5"
   ]
  },
  {
   "cell_type": "code",
   "execution_count": 20,
   "id": "54d478a3",
   "metadata": {},
   "outputs": [],
   "source": [
    "def metric_3(recommended_categories, user_categories):\n",
    "    \"\"\"nouvelles categories recommandées et non lues par l'utilisateur dans train\"\"\"\n",
    "    correct = 0\n",
    "    \n",
    "    for categ in recommended_categories:\n",
    "        if categ not in user_categories:\n",
    "            correct +=1\n",
    "    \n",
    "    return correct/5\n"
   ]
  },
  {
   "cell_type": "markdown",
   "id": "51fedde4",
   "metadata": {},
   "source": [
    "## - Approche Content Based Filtering"
   ]
  },
  {
   "cell_type": "code",
   "execution_count": 21,
   "id": "9e4750ee",
   "metadata": {},
   "outputs": [],
   "source": [
    "class cbfRecommender():\n",
    "\n",
    "    # Recommender les meilleurs 5 articles utulisant la siularité cosinus\n",
    "    # Calcul de performances\n",
    "    # Retourne les performances pour chaque utilisateur\n",
    "\n",
    "    def __init__(self, train, test, user_id, verbose):\n",
    "        self.train = train\n",
    "        self.test = test\n",
    "        self.user_id = user_id\n",
    "        self.verbose = verbose\n",
    "\n",
    "    def getFiveArticles(self):\n",
    "        liste_articles, last_article, selection, selection_results,= [],[],[],[]\n",
    "        '''\n",
    "        Fonction qui retourne 5 articles similaires en utilisant la similarité cosinus sur l'embedding du dernier \n",
    "        article vu par 'utilisateur et les embeddings restants'\n",
    "        '''\n",
    "        # get all articles read by user\n",
    "        liste_articles = self.train[self.train['user_id']\n",
    "                                    == self.user_id]['article_id'].tolist()\n",
    "        # chose the last read article\n",
    "        last_article = liste_articles[-1:]\n",
    "\n",
    "        # Dans la base de test, faire une selection d'articles qui ne contient pas les articles déjà lus\n",
    "        # Nous ne voulons pas proposer à l'utilisateur de lire quelque chose qu'il a déjà lu\n",
    "        selection = self.test[~self.test.article_id.isin(liste_articles)]\n",
    "        # Supprimer les doublons\n",
    "        selection.drop_duplicates(\n",
    "            subset='article_id', keep=\"first\", inplace=True)\n",
    "\n",
    "        # - Methode 1\n",
    "        # Récupérer l'encoding du dernier article lu\n",
    "        query_encoding = np.array(\n",
    "            self.train[self.train['article_id'] == last_article[0]]['embeddings'])[0]\n",
    "        #  spatial.distance.cosine computes the distance, and not the similarity.\n",
    "        # ======> So, you must subtract the value from 1 to get the similarity.\n",
    "        #  Calcul des similarités\n",
    "        selection['similarity_score'] = selection['embeddings'].apply(\n",
    "            lambda x: 1 - distance.cosine(x, query_encoding))\n",
    "        #  Faire le tri pour selon les grandes similarités\n",
    "        selection_results = selection.sort_values(\n",
    "            by=['similarity_score'], ascending=False)\n",
    "        #  Sélection des 5 articles les plus similaires\n",
    "        #articles1 = selection_results['article_id'][:5]\n",
    "\n",
    "        # ________ Methode 2________\n",
    "        #from sklearn.metrics.pairwise import cosine_similarity\n",
    "        #selection['similarity_score2'] = selection['embeddings'].apply(lambda x: cosine_similarity([x], [query_encoding] ))\n",
    "        #articles2 = selection.sort_values(by=['similarity_score2'], ascending=False)['article_id'][:5]\n",
    "\n",
    "        #  retourner lasSélection des 5 articles les plus similaires et leurs scores\n",
    "        return selection_results[:5]\n",
    "    \n",
    "    def affiche_reco(self, results):\n",
    "        print(\"les articles recommandés pour l'utilisateur \",self.user_id,\" Selon dernier artice lu\\n\",results[['article_id',\"similarity_score\"]])\n",
    "\n",
    "    def evaluation_context(self):\n",
    "        metric1, metric2, metric3 = 0, 0, 0\n",
    "        intersection, intersection_categories, results, articles_recommended, user_categories, last_article_category, recommended_categories = [], [],[],[],[],[],[]\n",
    "        results = self.getFiveArticles()\n",
    "        articles_recommended = results['article_id'].values\n",
    "        user_categories = self.train['category_id'][self.train.user_id == self.user_id].unique()\n",
    "        last_article_category = user_categories[-1:]\n",
    "        recommended_categories = results.category_id.unique()\n",
    "\n",
    "        # Récupération des informations suivant la base de test\n",
    "        # Les categories d'articles lus de l'utilisateur dans la base de test\n",
    "        categories_lues_test = self.test['category_id'][self.test.user_id == self.user_id].unique()\n",
    "        # Les articles de l'utilisateur lus dans la base de test\n",
    "        articles_lus_test = self.test['article_id'][self.test.user_id == self.user_id].unique()\n",
    "\n",
    "        # Les articles recommandés situés dans la liste de lecture de la base de test\n",
    "        intersection = list(set(articles_lus_test) & set(articles_recommended))\n",
    "        #print(\"Les articles recommandés situés dans la liste de lecture de la base de test: \", intersection)\n",
    "\n",
    "        # Les categories des articles recommandés situées dans la liste de lecture de la base de test\n",
    "        intersection_categories = list(\n",
    "            set(categories_lues_test) & set(recommended_categories))\n",
    "        #print(\"Les categories des articles recommandés situées dans la liste de lecture de la base de test: \", intersection_categories)\n",
    "\n",
    "        exist_test = 0  # faite pour traiter le cas où l'utilisateur n'a pas de données dans test\n",
    "        if len(set(articles_lus_test)) != 0:\n",
    "            exist_test = 1\n",
    "            # pourcentage de categories d'articles recommndés corrects en %\n",
    "            #metric1 = (len(intersection_categories) / len(set(categories_lues_test)))*100\n",
    "            metric1 = round(metric_1(intersection_categories, categories_lues_test)*100) \n",
    "        # Metrique pour identifier si je suis parvenue à trouver des articles prédits existants dans test\n",
    "        hit = 0\n",
    "        if intersection:\n",
    "            hit = 1\n",
    "        metric2 = round(metric_2(recommended_categories, user_categories)*100)\n",
    "        metric3 = round(metric_3(recommended_categories, user_categories)*100)\n",
    "        \n",
    "        if self.verbose :\n",
    "            self.affiche_reco(results) \n",
    "            print(\"metric1 = \",metric1,\"\\t metric2 = \",metric2,\" \\t metric3 =\", metric3)\n",
    "        \n",
    "        return exist_test, metric1, metric2, metric3"
   ]
  },
  {
   "cell_type": "code",
   "execution_count": 22,
   "id": "8e84bd19",
   "metadata": {},
   "outputs": [
    {
     "name": "stdout",
     "output_type": "stream",
     "text": [
      "cbf_elapsed_time =  112.75120186805725 \t metric1 =  5.456896551724138 \t metric2 =  20.3  \t metric3 = 11.6\n"
     ]
    }
   ],
   "source": [
    "#-------------- Test approche Content Based Filtering (approche item-item)\n",
    "performance = []\n",
    "start_time = time.time()\n",
    "for user_id in sample_users:\n",
    "    performance.append ( np.array( cbfRecommender(train, test, user_id, verbose).evaluation_context()) )\n",
    "cbf_elapsed_time = time.time() - start_time\n",
    "\n",
    "# Traitement d'affichage des métriques calculées\n",
    "j = np.array(performance)\n",
    "metric1 =np.mean( j[j[:,0]!=0][:,1], axis=0)\n",
    "part2 = np.mean(j[:, -2:], axis=0)\n",
    "part2\n",
    "metric2 =part2[0]\n",
    "metric3 = part2[1]\n",
    "print(\"cbf_elapsed_time = \",cbf_elapsed_time,\"\\t metric1 = \",metric1,\"\\t metric2 = \",metric2,\" \\t metric3 =\", metric3)"
   ]
  },
  {
   "cell_type": "markdown",
   "id": "f5d54ac3",
   "metadata": {},
   "source": [
    "### - Approche Collaborative filtering - Implicit"
   ]
  },
  {
   "cell_type": "markdown",
   "id": "a3d2b6ac",
   "metadata": {},
   "source": [
    "Pour créer une recommandation du contenu de manière implicite, la seule information du choix des utilisateurs est le nombre de click sur les articles afin de déterminer leur niveau de satisfaction. Pour cela, préparer une matrice qui comporte user_id, article_id et nombre de clicks.   \n",
    "Ici, clicks est considéré comme un retour implicite des clients, il représente la préférence ou la confiance des clients pour un article spécifique.\n",
    "\n"
   ]
  },
  {
   "cell_type": "code",
   "execution_count": 23,
   "id": "03cc24a3",
   "metadata": {},
   "outputs": [
    {
     "data": {
      "text/html": [
       "<div>\n",
       "<style scoped>\n",
       "    .dataframe tbody tr th:only-of-type {\n",
       "        vertical-align: middle;\n",
       "    }\n",
       "\n",
       "    .dataframe tbody tr th {\n",
       "        vertical-align: top;\n",
       "    }\n",
       "\n",
       "    .dataframe thead th {\n",
       "        text-align: right;\n",
       "    }\n",
       "</style>\n",
       "<table border=\"1\" class=\"dataframe\">\n",
       "  <thead>\n",
       "    <tr style=\"text-align: right;\">\n",
       "      <th></th>\n",
       "      <th>user_id</th>\n",
       "      <th>article_id</th>\n",
       "      <th>clicks</th>\n",
       "    </tr>\n",
       "  </thead>\n",
       "  <tbody>\n",
       "    <tr>\n",
       "      <th>0</th>\n",
       "      <td>16280</td>\n",
       "      <td>363925</td>\n",
       "      <td>23</td>\n",
       "    </tr>\n",
       "    <tr>\n",
       "      <th>1</th>\n",
       "      <td>16280</td>\n",
       "      <td>237071</td>\n",
       "      <td>23</td>\n",
       "    </tr>\n",
       "    <tr>\n",
       "      <th>2</th>\n",
       "      <td>16280</td>\n",
       "      <td>68851</td>\n",
       "      <td>23</td>\n",
       "    </tr>\n",
       "  </tbody>\n",
       "</table>\n",
       "</div>"
      ],
      "text/plain": [
       "   user_id  article_id  clicks\n",
       "0    16280      363925      23\n",
       "1    16280      237071      23\n",
       "2    16280       68851      23"
      ]
     },
     "execution_count": 23,
     "metadata": {},
     "output_type": "execute_result"
    }
   ],
   "source": [
    "# Select the data\n",
    "data =  pd.concat( [train[\"user_id\"], train[ \"article_id\"]], axis=1, keys =[\"user_id\", \"article_id\" ])\n",
    "data = data.value_counts().to_frame('clicks').reset_index()\n",
    "data.head(3)"
   ]
  },
  {
   "cell_type": "code",
   "execution_count": 24,
   "id": "e1bc46a3",
   "metadata": {
    "scrolled": true
   },
   "outputs": [
    {
     "name": "stdout",
     "output_type": "stream",
     "text": [
      "<class 'pandas.core.frame.DataFrame'>\n",
      "RangeIndex: 1907161 entries, 0 to 1907160\n",
      "Data columns (total 3 columns):\n",
      " #   Column      Dtype\n",
      "---  ------      -----\n",
      " 0   user_id     int64\n",
      " 1   article_id  int64\n",
      " 2   clicks      int64\n",
      "dtypes: int64(3)\n",
      "memory usage: 43.7 MB\n",
      "Variation du nobre de clicks  [23 21 17 15 13 10  9  8  7  6  5  4  3  2  1]\n",
      "Ceci montre qu'il y a des articles qui sont sollicités plus que d'autres (23, 21, 17, etc)\n"
     ]
    }
   ],
   "source": [
    "data.info()\n",
    "print(\"Variation du nobre de clicks \",data.clicks.unique())\n",
    "print(\"Ceci montre qu'il y a des articles qui sont sollicités plus que d'autres (23, 21, 17, etc)\")"
   ]
  },
  {
   "cell_type": "code",
   "execution_count": 25,
   "id": "382ebd49",
   "metadata": {},
   "outputs": [
    {
     "name": "stderr",
     "output_type": "stream",
     "text": [
      "WARNING:root:Intel MKL BLAS detected. Its highly recommend to set the environment variable 'export MKL_NUM_THREADS=1' to disable its internal multithreading\n"
     ]
    },
    {
     "data": {
      "application/vnd.jupyter.widget-view+json": {
       "model_id": "7a5f2478154f4265b06acb03e41304d0",
       "version_major": 2,
       "version_minor": 0
      },
      "text/plain": [
       "  0%|          | 0/20 [00:00<?, ?it/s]"
      ]
     },
     "metadata": {},
     "output_type": "display_data"
    }
   ],
   "source": [
    "# The implicit library expects data as a item-user matrix so we\n",
    "# create two matricies, one for fitting the model (item-user) \n",
    "# and one for recommendations (user-item)\n",
    "\n",
    "sparse_item_user = sparse.csr_matrix((data['clicks'].astype(float), (data['article_id'], data['user_id'])))\n",
    "sparse_user_item = sparse.csr_matrix((data['clicks'].astype(float), (data['user_id'], data['article_id'])))\n",
    "\n",
    "\n",
    "# Initialize the als model and fit it using the sparse item-user matrix\n",
    "model = implicit.als.AlternatingLeastSquares(factors=20, regularization=0.1, iterations=20)\n",
    "\n",
    "# Calculate the confidence by multiplying it by our alpha value.\n",
    "#Initiale\n",
    "alpha_val = 15#alpha =40 selon un certain travai à vérifier si c'est réellement bon\n",
    "data_conf = (sparse_item_user * alpha_val).astype('double')\n",
    "\n",
    "\n",
    "#Fit the model\n",
    "model.fit(data_conf)\n"
   ]
  },
  {
   "cell_type": "code",
   "execution_count": 26,
   "id": "ea530c03",
   "metadata": {},
   "outputs": [],
   "source": [
    "class cfRecommender():\n",
    "\n",
    "    # Recommender les meilleurs 5 articles utilisant le collaborative filtering\n",
    "    # Calcul de performances\n",
    "    # Retourne les performances pour chaque utilisateur\n",
    "    \n",
    "    user_categories, implicit_recommended_categories, articles_lus_test, categories_lues_test, intersection_implicit, implicit_intersection_categories = [],[],[],[],[],[]\n",
    "\n",
    "\n",
    "    def __init__(self, train, test, user_id, model, sparse_user_item, verbose):\n",
    "        self.train = train\n",
    "        self.test = test\n",
    "        self.user_id = user_id\n",
    "        self.model =  model\n",
    "        self.sparse_user_item = sparse_user_item\n",
    "        self.verbose = verbose\n",
    "              \n",
    "    def affiche_reco(self, results_implicit):\n",
    "        print(\"les articles recommandés pour l'utilisateur \",self.user_id,\"\\n\",results_implicit)\n",
    "     \n",
    "    #------------------------------\n",
    "    # CREATE USER RECOMMENDATIONS\n",
    "    #------------------------------\n",
    "     \n",
    "    def implicit_recommendation(self):\n",
    "        \"\"\"CREATE USER RECOMMENDATIONS\"\"\"\n",
    "        \n",
    "        # Use the implicit recommender.\n",
    "        recommended = model.recommend(self.user_id, self.sparse_user_item)\n",
    "        \n",
    "        implicit_articles = []\n",
    "        scores = []\n",
    "\n",
    "        # Get artist names from ids\n",
    "        for item in recommended:\n",
    "            idx, score = item\n",
    "            implicit_articles.append(idx)\n",
    "            scores.append(score)\n",
    "\n",
    "        # Create a dataframe of articles and scores\n",
    "        recommendations = pd.DataFrame({'article_id': implicit_articles , 'score': scores})\n",
    "        recommendations.drop_duplicates(subset='article_id', keep=\"first\", inplace=True)\n",
    "\n",
    "\n",
    "        #recommendations.drop_duplicates(subset=['article_id'])\n",
    "        return recommendations[:5]\n",
    "    \n",
    "    \n",
    "    def evaluation_implicit (self):\n",
    "\n",
    "        metric1, metric2, metric3 = 0,0,0\n",
    "        recommendations = []\n",
    "\n",
    "        results_implicit = self.implicit_recommendation()\n",
    "        implicit_articles = results_implicit['article_id'].values\n",
    "              \n",
    "        user_categories = self.train['category_id'][self.train.user_id == self.user_id].unique()\n",
    "\n",
    "        #print(\"implicit recommended articles: \", implicit_articles)\n",
    "        implicit_recommended_categories = self.test[self.test.article_id.isin(implicit_articles)]['category_id'].unique()\n",
    "        #print(\"implicit_recommended_categories\", implicit_recommended_categories)\n",
    "\n",
    "\n",
    "        # Récupération des informations suivant la base de test\n",
    "        articles_lus_test = self.test['article_id'][self.test.user_id==self.user_id].unique()\n",
    "        categories_lues_test = self.test['category_id'][self.test.user_id==self.user_id].unique()\n",
    "\n",
    "\n",
    "        # Les articles recommandés situés dans la liste de lecture de la base de test\n",
    "        intersection_implicit = list( set (articles_lus_test)  &  set(implicit_articles) )\n",
    "        #print(\"Les articles recommandés situés dans la liste de lecture de la base de test: \", intersection_implicit)\n",
    "\n",
    "        # Les categories des articles recommandés situées dans la liste de lecture de la base de test\n",
    "        implicit_intersection_categories = list( set (categories_lues_test)  &  set(implicit_recommended_categories) )\n",
    "        #print(\"Les categories des articles recommandés situés dans la liste de lecture de la base de test: \", implicit_intersection_categories)\n",
    "\n",
    "\n",
    "        exist_test = 0 ## faite pour traiter le cas où l'utilisateur n'a pas de données dans test\n",
    "        if len(set (articles_lus_test)) !=0 :\n",
    "            exist_test = 1\n",
    "            # pourcentage categories d'articles recommndés corrects en %\n",
    "\n",
    "            #metric1 =  (len(implicit_intersection_categories )/len(set (categories_lues_test)) )*100\n",
    "            metric1 = round(metric_1(implicit_intersection_categories, categories_lues_test)*100)\n",
    "\n",
    "        # Metrique pour identifier si je suis parvenue à trouver des articles prédits existants dans test\n",
    "        hit=0\n",
    "        if intersection_implicit: \n",
    "            hit=1\n",
    "\n",
    "        #round(metric_2(rec_items, user_1)*100)\n",
    "        metric2 = round(metric_2(implicit_recommended_categories, user_categories)*100)\n",
    "        metric3 = round(metric_3(implicit_recommended_categories, user_categories)*100)\n",
    "        \n",
    "        if self.verbose :\n",
    "            self.affiche_reco(results_implicit) \n",
    "            print(\"metric1 = \",metric1,\"\\t metric2 = \",metric2,\" \\t metric3 =\", metric3)        \n",
    "\n",
    "        return exist_test, metric1, metric2, metric3       "
   ]
  },
  {
   "cell_type": "markdown",
   "id": "5dd7a415",
   "metadata": {},
   "source": [
    "### -Implicit Performance evaluation   "
   ]
  },
  {
   "cell_type": "code",
   "execution_count": 27,
   "id": "923ddb64",
   "metadata": {},
   "outputs": [
    {
     "name": "stdout",
     "output_type": "stream",
     "text": [
      "cf_elapsed_time =  3.8577001094818115 \t metric1 =  11.681034482758621 \t metric2 =  23.0  \t metric3 = 49.6\n"
     ]
    }
   ],
   "source": [
    "#---------- Collaborative Filtering test ---------\n",
    "performance = []\n",
    "start_time = time.time()\n",
    "for user_id in sample_users:\n",
    "    performance.append ( np.array(  cfRecommender(train, test, user_id, model, sparse_user_item, verbose).evaluation_implicit() ) )\n",
    "cf_elapsed_time = time.time() - start_time\n",
    "\n",
    "# Traitement d'affichage des métriques calculées\n",
    "j = np.array(performance)\n",
    "metric1_2 =np.mean( j[j[:,0]!=0][:,1], axis=0)\n",
    "part2 = np.mean(j[:, -2:], axis=0)\n",
    "part2\n",
    "metric2_2=part2[0]\n",
    "metric3_2=part2[1]\n",
    "print(\"cf_elapsed_time = \",cf_elapsed_time,\"\\t metric1 = \",metric1_2,\"\\t metric2 = \",metric2_2,\" \\t metric3 =\", metric3_2)"
   ]
  },
  {
   "cell_type": "code",
   "execution_count": 28,
   "id": "5db2e535",
   "metadata": {},
   "outputs": [
    {
     "name": "stdout",
     "output_type": "stream",
     "text": [
      "                CB         CF index_col\n",
      "metric1   5.456897  11.681034   metric1\n",
      "metric2  20.300000  23.000000   metric2\n",
      "metric3  11.600000  49.600000   metric3\n"
     ]
    },
    {
     "data": {
      "text/plain": [
       "Text(0.5, 1.0, 'Comparaison méthodes de recommandation')"
      ]
     },
     "execution_count": 28,
     "metadata": {},
     "output_type": "execute_result"
    },
    {
     "data": {
      "image/png": "[encoded data removed]",
      "text/plain": [
       "<Figure size 432x288 with 1 Axes>"
      ]
     },
     "metadata": {
      "needs_background": "light"
     },
     "output_type": "display_data"
    }
   ],
   "source": [
    "# Récupération des résultats des différents modèles avec les données de validation\n",
    "cols = [ 'CB', 'CF']\n",
    "\n",
    "metrics = ['metric1', 'metric2','metric3']\n",
    "\n",
    "m1 = [metric1, metric1_2]# métrique 1\n",
    "m2 = [metric2, metric2_2] # métrique 2\n",
    "m3 = [metric3, metric3_2] # métrique 3\n",
    "\n",
    "\n",
    "\n",
    "numpy_data = np.array([m1,m2,m3]) \n",
    "\n",
    "info = pd.DataFrame(data=numpy_data, index=metrics, columns=cols)\n",
    "info['index_col'] = info.index\n",
    "print(info)\n",
    "\n",
    "from matplotlib import pyplot as plt\n",
    "info.plot(x=\"index_col\", y=[\"CB\", \"CF\"], kind=\"bar\")\n",
    "plt.xticks(rotation=45)\n",
    "plt.xlabel('Métriques')\n",
    "plt.ylabel('score')\n",
    "plt.title (\"Comparaison méthodes de recommandation\")\n"
   ]
  },
  {
   "cell_type": "markdown",
   "id": "2fc2c0a3",
   "metadata": {},
   "source": [
    "- Les résultats de simulation à travers les métriques ou le temps écoulé montrent que le modèle de recommandation CF l'emporte sur le CB.   \n",
    "- Si dans la métrique 2 (catégories recommandées et lues par l'utilisateur dans train) les deux modèles sont proches, les résultats réels à travers métrique 2 (catégories recommandées et lues par l'utilisateur dans test) présentent une différence à l'ordre du double. Ceci s'explique par la métrique 3 (nouvelles categories recommandées et non lues par l'utilisateur dans train) qui prouve que le CB ne peut recommander que des catégories d'articles déjà rencontées et il n'est pas capable d'identifier de nouvelles qui pourraient intéresser l'utilisateur ce qui explique l'écart vu dans la métrique 1."
   ]
  },
  {
   "cell_type": "markdown",
   "id": "e2387640",
   "metadata": {},
   "source": [
    "### Enregistrement des données nécessaires pour azure functions.  \n",
    "#### train et test files"
   ]
  },
  {
   "cell_type": "code",
   "execution_count": null,
   "id": "bd041646",
   "metadata": {},
   "outputs": [],
   "source": [
    "#workdir = \"/Users/zeineb/Documents/FormationIA/Projet9\"\n",
    "#chemin = workdir + \"/files\"\n",
    "#print(\"Enregistrement des fichiers train/test csv à :\", chemin)\n",
    "#try:\n",
    "#    os.makedirs(chemin, exist_ok=True)\n",
    "#except OSError as error:\n",
    "#    print(\"Save folder could not be created\")\n",
    "    \n",
    "#train.to_csv(os.path.join(chemin, \"train.csv\"), index=False)\n",
    "#dtest.to_csv(os.path.join(chemin, \"test.csv\"), index=False)"
   ]
  },
  {
   "cell_type": "markdown",
   "id": "f6ba310e",
   "metadata": {},
   "source": [
    "#### Enregistrement du meilleur modèle"
   ]
  },
  {
   "cell_type": "code",
   "execution_count": 29,
   "id": "8590cdbb",
   "metadata": {},
   "outputs": [],
   "source": [
    "#import joblib\n",
    "#workdir = \"/Users/zeineb/Documents/FormationIA/Projet9/Users/zeineb/lab9\"\n",
    "#chemin = workdir + \"/files\"\n",
    "chemin = \"/Users/zeineb/Documents/FormationIA/Projet9/functionOC\"\n",
    "try:\n",
    "    os.makedirs(chemin, exist_ok=True)\n",
    "except OSError as error:\n",
    "    print(\"Save folder could not be created\")\n",
    "    \n",
    "    \n",
    "#filename = \"CF_model.joblib\"\n",
    "#joblib.dump(model,os.path.join(chemin, filename))\n",
    "\n",
    "with open(os.path.join(chemin, \"CF_model.sav\"), 'wb') as handle:\n",
    "    pickle.dump(model, handle)"
   ]
  },
  {
   "cell_type": "code",
   "execution_count": 30,
   "id": "757cf151",
   "metadata": {},
   "outputs": [],
   "source": [
    "# save sparse_user_item\n",
    "with open(os.path.join(chemin,\"sparse_item_user.pkl\"), 'wb') as handle:\n",
    "    pickle.dump(sparse_item_user, handle)\n",
    "# save sparse_user_item\n",
    "with open(os.path.join(chemin,\"sparse_user_item.pkl\"), 'wb') as handle:\n",
    "    pickle.dump(sparse_user_item, handle)"
   ]
  },
  {
   "cell_type": "markdown",
   "id": "dd099b60",
   "metadata": {},
   "source": [
    "#### #-----Load necessary data"
   ]
  },
  {
   "cell_type": "code",
   "execution_count": 31,
   "id": "e5e4c09c",
   "metadata": {},
   "outputs": [],
   "source": [
    "#-----Load best model CF\n",
    "#loaded_model = joblib.load(os.path.join(chemin, filename))\n",
    "with open(os.path.join(chemin,\"CF_model.sav\"), \"rb\") as f:\n",
    "        loaded_model = pickle.load(f)\n",
    "\n",
    "#-----Load sparse_user_item matrix\n",
    "with open(os.path.join(chemin,\"sparse_user_item.pkl\"), \"rb\") as f:\n",
    "        loaded_sparse_user_item = pickle.load(f)\n",
    "\n",
    "#-----Load list of users\n",
    "#loaded_users = np.load(os.path.join(chemin,\"users_arr.npy\"))"
   ]
  },
  {
   "cell_type": "code",
   "execution_count": 32,
   "id": "b663982e",
   "metadata": {},
   "outputs": [
    {
     "data": {
      "text/html": [
       "<div>\n",
       "<style scoped>\n",
       "    .dataframe tbody tr th:only-of-type {\n",
       "        vertical-align: middle;\n",
       "    }\n",
       "\n",
       "    .dataframe tbody tr th {\n",
       "        vertical-align: top;\n",
       "    }\n",
       "\n",
       "    .dataframe thead th {\n",
       "        text-align: right;\n",
       "    }\n",
       "</style>\n",
       "<table border=\"1\" class=\"dataframe\">\n",
       "  <thead>\n",
       "    <tr style=\"text-align: right;\">\n",
       "      <th></th>\n",
       "      <th>article_id</th>\n",
       "      <th>score</th>\n",
       "    </tr>\n",
       "  </thead>\n",
       "  <tbody>\n",
       "    <tr>\n",
       "      <th>0</th>\n",
       "      <td>124749</td>\n",
       "      <td>1.217347</td>\n",
       "    </tr>\n",
       "    <tr>\n",
       "      <th>1</th>\n",
       "      <td>64329</td>\n",
       "      <td>1.131845</td>\n",
       "    </tr>\n",
       "    <tr>\n",
       "      <th>2</th>\n",
       "      <td>293114</td>\n",
       "      <td>1.102476</td>\n",
       "    </tr>\n",
       "    <tr>\n",
       "      <th>3</th>\n",
       "      <td>293050</td>\n",
       "      <td>1.086517</td>\n",
       "    </tr>\n",
       "    <tr>\n",
       "      <th>4</th>\n",
       "      <td>199198</td>\n",
       "      <td>1.073051</td>\n",
       "    </tr>\n",
       "  </tbody>\n",
       "</table>\n",
       "</div>"
      ],
      "text/plain": [
       "   article_id     score\n",
       "0      124749  1.217347\n",
       "1       64329  1.131845\n",
       "2      293114  1.102476\n",
       "3      293050  1.086517\n",
       "4      199198  1.073051"
      ]
     },
     "execution_count": 32,
     "metadata": {},
     "output_type": "execute_result"
    }
   ],
   "source": [
    "#------make a recommendation\n",
    "results_implicit = cfRecommender(train, test, sample_users[0], model, sparse_user_item, verbose).implicit_recommendation()\n",
    "#results_implicit = implicit_recommendation(loaded_model, loaded_sparse_user_item, sample_users[10])\n",
    "results_implicit"
   ]
  },
  {
   "cell_type": "markdown",
   "id": "eccb5a18",
   "metadata": {},
   "source": [
    "#### Azure portal"
   ]
  },
  {
   "cell_type": "code",
   "execution_count": 34,
   "id": "1dce76aa",
   "metadata": {},
   "outputs": [],
   "source": [
    "#______________Enregistrement des recommandations dans un fichier csv_________\n",
    "import csv\n",
    "fields = 'userId', 'item_1', 'item_2', 'item_3', 'item_4' , 'item_5'\n",
    "#filename = 'rec_train.csv'\n",
    "with open (os.path.join(chemin, \"rec_train.csv\"), 'a', newline = '') as f:\n",
    "    writer = csv.writer(f)\n",
    "    writer.writerow(fields)\n",
    "    userId = train.user_id.unique()\n",
    "    for user in userId:\n",
    "        results = []\n",
    "        j=[]\n",
    "        results.append([user])\n",
    "        j = cfRecommender(train, test, user, model, sparse_user_item, verbose).implicit_recommendation()['article_id'].values.astype(int)\n",
    "        results.append(j)\n",
    "        writer.writerow(np.concatenate( results, axis=0 ))"
   ]
  },
  {
   "cell_type": "code",
   "execution_count": 35,
   "id": "7c3b9e66",
   "metadata": {},
   "outputs": [],
   "source": [
    "#——————Read recommendations——————\n",
    "predicted = pd.read_csv(os.path.join(chemin, \"rec_train.csv\"))"
   ]
  },
  {
   "cell_type": "code",
   "execution_count": 36,
   "id": "34039c1a",
   "metadata": {},
   "outputs": [
    {
     "data": {
      "text/plain": [
       "[[59758, 119193, 284463, 160974, 336221]]"
      ]
     },
     "execution_count": 36,
     "metadata": {},
     "output_type": "execute_result"
    }
   ],
   "source": [
    "#________Make a recommendation : Example of use________\n",
    "predicted[predicted.userId==14][['item_1','item_2','item_3','item_4','item_5']].values.tolist()"
   ]
  },
  {
   "cell_type": "code",
   "execution_count": null,
   "id": "805ecedb",
   "metadata": {},
   "outputs": [],
   "source": []
  },
  {
   "cell_type": "code",
   "execution_count": null,
   "id": "302bde5f",
   "metadata": {},
   "outputs": [],
   "source": []
  },
  {
   "cell_type": "code",
   "execution_count": null,
   "id": "7afb80d0",
   "metadata": {},
   "outputs": [],
   "source": []
  }
 ],
 "metadata": {
  "kernelspec": {
   "display_name": "Python 3 (ipykernel)",
   "language": "python",
   "name": "python3"
  },
  "language_info": {
   "codemirror_mode": {
    "name": "ipython",
    "version": 3
   },
   "file_extension": ".py",
   "mimetype": "text/x-python",
   "name": "python",
   "nbconvert_exporter": "python",
   "pygments_lexer": "ipython3",
   "version": "3.9.7"
  },
  "varInspector": {
   "cols": {
    "lenName": 16,
    "lenType": 16,
    "lenVar": 40
   },
   "kernels_config": {
    "python": {
     "delete_cmd_postfix": "",
     "delete_cmd_prefix": "del ",
     "library": "var_list.py",
     "varRefreshCmd": "print(var_dic_list())"
    },
    "r": {
     "delete_cmd_postfix": ") ",
     "delete_cmd_prefix": "rm(",
     "library": "var_list.r",
     "varRefreshCmd": "cat(var_dic_list()) "
    }
   },
   "types_to_exclude": [
    "module",
    "function",
    "builtin_function_or_method",
    "instance",
    "_Feature"
   ],
   "window_display": false
  }
 },
 "nbformat": 4,
 "nbformat_minor": 5
}
